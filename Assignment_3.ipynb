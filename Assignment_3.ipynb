{
 "cells": [
  {
   "attachments": {},
   "cell_type": "markdown",
   "metadata": {},
   "source": [
    "# Python Advanced - Assignment 3"
   ]
  },
  {
   "attachments": {},
   "cell_type": "markdown",
   "metadata": {},
   "source": [
    "### 1. What is the concept of an abstract superclass?"
   ]
  },
  {
   "attachments": {},
   "cell_type": "markdown",
   "metadata": {},
   "source": [
    "The concept of an abstract superclass in object-oriented programming refers to a class that is designed to be inherited by other classes, but not instantiated directly. It serves as a blueprint or template for its subclasses, providing common attributes and methods that can be shared among multiple related classes.\n",
    "\n",
    "An abstract superclass typically contains abstract methods, which are method declarations without an implementation. These abstract methods serve as placeholders, defining the required interface or contract that subclasses must adhere to. Subclasses of the abstract superclass are responsible for providing concrete implementations of these abstract methods.\n",
    "\n",
    "The purpose of an abstract superclass is to define a common structure, behavior, and contract that subclasses should follow. It establishes a level of abstraction and serves as a way to organize and categorize related classes. It allows you to define common functionality once in the abstract superclass and reuse it across multiple subclasses, promoting code reusability and modularity.\n",
    "\n",
    "In Python, the concept of an abstract superclass is implemented using the `abc` module, which provides the `ABC` (Abstract Base Class) mechanism. By inheriting from the `ABC` class and using the `@abstractmethod` decorator, you can define abstract methods in an abstract superclass. Subclasses that inherit from the abstract superclass are required to implement these abstract methods.\n",
    "\n",
    "Here's an example of an abstract superclass in Python:\n",
    "\n",
    "```python\n",
    "from abc import ABC, abstractmethod\n",
    "\n",
    "class Shape(ABC):\n",
    "    @abstractmethod\n",
    "    def area(self):\n",
    "        pass\n",
    "\n",
    "    @abstractmethod\n",
    "    def perimeter(self):\n",
    "        pass\n",
    "\n",
    "class Rectangle(Shape):\n",
    "    def __init__(self, length, width):\n",
    "        self.length = length\n",
    "        self.width = width\n",
    "\n",
    "    def area(self):\n",
    "        return self.length * self.width\n",
    "\n",
    "    def perimeter(self):\n",
    "        return 2 * (self.length + self.width)\n",
    "\n",
    "class Circle(Shape):\n",
    "    def __init__(self, radius):\n",
    "        self.radius = radius\n",
    "\n",
    "    def area(self):\n",
    "        return 3.14 * self.radius ** 2\n",
    "\n",
    "    def perimeter(self):\n",
    "        return 2 * 3.14 * self.radius\n",
    "```\n",
    "\n",
    "In this example, the `Shape` class is an abstract superclass that defines the common interface for shape classes. It declares abstract methods `area` and `perimeter`, which subclasses must implement.\n",
    "\n",
    "The `Rectangle` and `Circle` classes are subclasses of `Shape`. They inherit from `Shape` and provide concrete implementations of the abstract methods. By inheriting from `Shape`, the subclasses are enforced to implement the `area` and `perimeter` methods, ensuring that all subclasses conform to the contract defined by the abstract superclass.\n",
    "\n",
    "The concept of an abstract superclass allows you to define common behavior and enforce a structure across related classes, ensuring consistency and providing a framework for subclass implementations."
   ]
  },
  {
   "attachments": {},
   "cell_type": "markdown",
   "metadata": {},
   "source": [
    "### 2. What happens when a class statement's top level contains a basic assignment statement?"
   ]
  },
  {
   "attachments": {},
   "cell_type": "markdown",
   "metadata": {},
   "source": [
    "When a class statement's top level contains a basic assignment statement in Python, it defines a class-level attribute. This means that the assigned value becomes a shared attribute among all instances of the class, rather than an instance-specific attribute.\n",
    "\n",
    "Here's an example to illustrate this behavior:\n",
    "\n",
    "```python\n",
    "class MyClass:\n",
    "    class_attribute = \"Shared Value\"\n",
    "\n",
    "    def __init__(self):\n",
    "        self.instance_attribute = \"Instance Value\"\n",
    "```\n",
    "\n",
    "In this example, the `MyClass` class has two attributes: `class_attribute` and `instance_attribute`. The `class_attribute` is defined at the top level of the class statement and is shared among all instances of the class. On the other hand, `instance_attribute` is defined within the `__init__` method and is specific to each instance of the class.\n",
    "\n",
    "Let's create some instances of `MyClass` and examine the attributes:\n",
    "\n",
    "```python\n",
    "obj1 = MyClass()\n",
    "obj2 = MyClass()\n",
    "\n",
    "print(obj1.class_attribute)  # Output: \"Shared Value\"\n",
    "print(obj2.class_attribute)  # Output: \"Shared Value\"\n",
    "\n",
    "print(obj1.instance_attribute)  # Output: \"Instance Value\"\n",
    "print(obj2.instance_attribute)  # Output: \"Instance Value\"\n",
    "```\n",
    "\n",
    "As you can see, both `obj1` and `obj2` share the same value for the `class_attribute`, which is \"Shared Value\". This attribute is accessible from both instances because it is defined at the class level.\n",
    "\n",
    "However, the `instance_attribute` is specific to each instance. When we access `obj1.instance_attribute` or `obj2.instance_attribute`, we get the respective values assigned during the instance's initialization. These attributes are unique to each instance and do not affect other instances of the class.\n",
    "\n",
    "In summary, when a basic assignment statement is included at the top level of a class statement in Python, it defines a class-level attribute that is shared among all instances of the class. Instances can access and modify this attribute, but any changes made will affect all other instances of the class. Instance-specific attributes, on the other hand, are typically defined within methods such as `__init__` and are specific to each instance."
   ]
  },
  {
   "attachments": {},
   "cell_type": "markdown",
   "metadata": {},
   "source": [
    "### 3. Why does a class need to manually call a superclass's __init__ method?"
   ]
  },
  {
   "attachments": {},
   "cell_type": "markdown",
   "metadata": {},
   "source": [
    "In Python, a class needs to manually call a superclass's `__init__` method when the subclass wants to inherit and initialize the attributes and behavior defined in the superclass. By calling the superclass's `__init__` method, the subclass ensures that the initialization steps of the superclass are executed before performing any additional initialization specific to the subclass.\n",
    "\n",
    "Here are the reasons why a class needs to call a superclass's `__init__` method manually:\n",
    "\n",
    "1. Inheritance of Initialization: When a subclass inherits from a superclass, it inherits not only the attributes and methods but also the initialization logic defined in the superclass's `__init__` method. By calling the superclass's `__init__` method explicitly within the subclass's `__init__` method, the subclass ensures that the superclass's initialization logic is executed and the inherited attributes are properly initialized.\n",
    "\n",
    "2. Access to Superclass's State: The superclass may have its own instance variables and attributes that are necessary for proper initialization and functioning. By calling the superclass's `__init__` method, the subclass gains access to the superclass's state and can set up the inherited attributes and initialize them appropriately.\n",
    "\n",
    "3. Cooperative Initialization: In scenarios where multiple levels of inheritance exist, each subclass in the inheritance hierarchy may need to cooperate in the initialization process. Calling the superclass's `__init__` method ensures that each class in the hierarchy has the opportunity to initialize its own attributes and perform any necessary setup before passing control to the next level in the hierarchy.\n",
    "\n",
    "To call the superclass's `__init__` method from the subclass, you can use the `super()` function, which provides a convenient way to refer to the superclass and call its methods. By invoking `super().__init__(...)`, the subclass can pass any required arguments to the superclass's `__init__` method and execute the superclass's initialization code.\n",
    "\n",
    "Here's an example that demonstrates calling the superclass's `__init__` method from a subclass:\n",
    "\n",
    "```python\n",
    "class Superclass:\n",
    "    def __init__(self, arg1, arg2):\n",
    "        self.arg1 = arg1\n",
    "        self.arg2 = arg2\n",
    "\n",
    "class Subclass(Superclass):\n",
    "    def __init__(self, arg1, arg2, arg3):\n",
    "        super().__init__(arg1, arg2)\n",
    "        self.arg3 = arg3\n",
    "\n",
    "# Creating an instance of the subclass\n",
    "obj = Subclass(\"Value1\", \"Value2\", \"Value3\")\n",
    "\n",
    "print(obj.arg1)  # Output: Value1\n",
    "print(obj.arg2)  # Output: Value2\n",
    "print(obj.arg3)  # Output: Value3\n",
    "```\n",
    "\n",
    "In this example, the `Subclass` inherits from the `Superclass`. The `Subclass`'s `__init__` method calls `super().__init__(arg1, arg2)` to invoke the `Superclass`'s `__init__` method with the required arguments `arg1` and `arg2`. This ensures that the `Superclass` initializes its attributes before the `Subclass` initializes its own attribute `arg3`.\n",
    "\n",
    "By manually calling the superclass's `__init__` method, the subclass establishes proper initialization and inheritance of attributes and behavior, allowing for a smooth and cooperative initialization process throughout the class hierarchy."
   ]
  },
  {
   "attachments": {},
   "cell_type": "markdown",
   "metadata": {},
   "source": [
    "### 4. How can you augment, instead of completely replacing, an inherited method?"
   ]
  },
  {
   "attachments": {},
   "cell_type": "markdown",
   "metadata": {},
   "source": [
    "In Python, you can augment or extend an inherited method from a superclass without completely replacing it by following these steps:\n",
    "\n",
    "1. Define the method with the same name in the subclass: Start by defining a method in the subclass with the same name as the method you want to augment from the superclass.\n",
    "\n",
    "2. Call the superclass's method: Within the subclass's method, use the `super()` function to call the superclass's method. This allows you to execute the original implementation of the method defined in the superclass.\n",
    "\n",
    "3. Add additional functionality: After calling the superclass's method, you can add any additional functionality or modify the behavior as needed in the subclass's method.\n",
    "\n",
    "Here's an example to illustrate how to augment an inherited method in a subclass:\n",
    "\n",
    "```python\n",
    "class Animal:\n",
    "    def make_sound(self):\n",
    "        print(\"Generic animal sound\")\n",
    "\n",
    "class Cat(Animal):\n",
    "    def make_sound(self):\n",
    "        super().make_sound()  # Call the superclass's method\n",
    "        print(\"Meow!\")  # Additional functionality\n",
    "\n",
    "# Create an instance of the subclass\n",
    "cat = Cat()\n",
    "\n",
    "# Call the augmented method\n",
    "cat.make_sound()\n",
    "```\n",
    "\n",
    "In this example, we have a superclass `Animal` with a method `make_sound()` that prints a generic animal sound. The `Cat` subclass inherits from `Animal` and defines its own `make_sound()` method.\n",
    "\n",
    "Inside the `Cat` class's `make_sound()` method, we call `super().make_sound()` to invoke the superclass's `make_sound()` method. This ensures that the original implementation in the superclass is executed. After that, we add the additional functionality to the `make_sound()` method by printing \"Meow!\".\n",
    "\n",
    "When we create an instance of the `Cat` class and call the `make_sound()` method, both the superclass's method and the augmented functionality in the subclass are executed:\n",
    "\n",
    "```\n",
    "Generic animal sound\n",
    "Meow!\n",
    "```\n",
    "\n",
    "By augmenting the inherited method, you preserve and extend the functionality defined in the superclass without completely replacing it. This approach allows you to build upon the existing behavior, add customizations, or provide specialized functionality in the subclass while leveraging the shared implementation from the superclass."
   ]
  },
  {
   "attachments": {},
   "cell_type": "markdown",
   "metadata": {},
   "source": [
    "### 5. How is the local scope of a class different from that of a function?"
   ]
  },
  {
   "attachments": {},
   "cell_type": "markdown",
   "metadata": {},
   "source": [
    "The local scope of a class and a function in Python is different in several ways:\n",
    "\n",
    "1. Scope Context: The local scope of a class is associated with the entire class definition, whereas the local scope of a function is associated with the body of the function.\n",
    "\n",
    "2. Variable Accessibility: In the local scope of a class, variables defined within methods or attributes are accessible throughout the class. These variables are referred to as instance variables or attributes and can be accessed and modified by any method within the class. In contrast, in the local scope of a function, variables defined within the function are accessible only within that function's body and are not accessible outside of it.\n",
    "\n",
    "3. Attribute Access: In the local scope of a class, you can access both instance variables and class-level variables. Instance variables are accessed using the `self` keyword within methods, while class-level variables are accessed using the class name. In the local scope of a function, you can only access local variables defined within the function or variables passed as parameters to the function.\n",
    "\n",
    "4. Lifetime: The local scope of a class exists as long as the class itself exists. It persists throughout the lifetime of the class object and its instances. On the other hand, the local scope of a function is created when the function is called and destroyed when the function finishes executing.\n",
    "\n",
    "5. Method Invocation: In the local scope of a class, methods are invoked using the instance of the class (e.g., `self.method()`). The instance provides access to the class's attributes and methods. In the local scope of a function, the function is invoked by its name, and it operates on the data passed to it as arguments.\n",
    "\n",
    "6. Inheritance: In the local scope of a class, you have access to the attributes and methods defined in the class and its superclass(es). This allows you to override, extend, or call superclass methods as needed. In the local scope of a function, you do not have direct access to the attributes and methods of a class unless they are explicitly passed as arguments.\n",
    "\n",
    "Overall, the local scope of a class provides a broader context for accessing and modifying attributes throughout the class, while the local scope of a function is limited to the function's body and the data passed to it. Understanding the differences between these scopes is essential for effectively working with classes and functions in Python."
   ]
  },
  {
   "cell_type": "code",
   "execution_count": null,
   "metadata": {},
   "outputs": [],
   "source": []
  }
 ],
 "metadata": {
  "kernelspec": {
   "display_name": "base",
   "language": "python",
   "name": "python3"
  },
  "language_info": {
   "codemirror_mode": {
    "name": "ipython",
    "version": 3
   },
   "file_extension": ".py",
   "mimetype": "text/x-python",
   "name": "python",
   "nbconvert_exporter": "python",
   "pygments_lexer": "ipython3",
   "version": "3.8.5"
  },
  "orig_nbformat": 4
 },
 "nbformat": 4,
 "nbformat_minor": 2
}
