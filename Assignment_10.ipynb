{
 "cells": [
  {
   "cell_type": "markdown",
   "metadata": {},
   "source": [
    "# Python Advanced - Assignment 10"
   ]
  },
  {
   "cell_type": "markdown",
   "metadata": {},
   "source": [
    "### Q1. What is the difference between __getattr__ and __getattribute__?"
   ]
  },
  {
   "cell_type": "markdown",
   "metadata": {},
   "source": [
    "The `__getattr__` and `__getattribute__` methods in Python are both used for attribute access in objects, but they have some key differences:\n",
    "\n",
    "1. `__getattr__(self, name)`:\n",
    "   - `__getattr__` is called when an attribute is accessed and not found through the usual attribute lookup process.\n",
    "   - It is invoked only when the attribute is not found in the object's instance dictionary or in its class hierarchy.\n",
    "   - The method receives the name of the attribute as a string and can return a value or raise an `AttributeError` if the attribute is not found.\n",
    "   - `__getattr__` is usually used for handling the access of non-existent or dynamically computed attributes.\n",
    "\n",
    "2. `__getattribute__(self, name)`:\n",
    "   - `__getattribute__` is called for every attribute access, regardless of whether the attribute exists or not.\n",
    "   - It is invoked before the normal attribute lookup process and can intercept all attribute access attempts.\n",
    "   - The method receives the name of the attribute as a string and must return the value of the attribute or raise an exception if desired.\n",
    "   - Caution must be exercised when implementing `__getattribute__` as it can lead to infinite recursion if not handled properly. In most cases, it's recommended to use `super().__getattribute__(name)` to access the parent class's implementation.\n",
    "\n",
    "In summary, the main difference between `__getattr__` and `__getattribute__` is that `__getattr__` is called only when an attribute is not found through regular attribute lookup, while `__getattribute__` is called for every attribute access, regardless of existence.\n",
    "\n",
    "Here's a simple example to illustrate the difference:\n",
    "\n",
    "```python\n",
    "class MyClass:\n",
    "    def __getattr__(self, name):\n",
    "        print(\"__getattr__ called\")\n",
    "        return None\n",
    "    \n",
    "    def __getattribute__(self, name):\n",
    "        print(\"__getattribute__ called\")\n",
    "        return super().__getattribute__(name)\n",
    "```\n",
    "\n",
    "```python\n",
    "obj = MyClass()\n",
    "obj.existing_attribute  # Calls __getattribute__, prints \"__getattribute__ called\"\n",
    "obj.nonexistent_attribute  # Calls __getattribute__ and __getattr__, prints \"__getattribute__ called\" and \"__getattr__ called\"\n",
    "```\n",
    "\n",
    "In the example, accessing an existing attribute triggers only `__getattribute__`, while accessing a non-existent attribute triggers both `__getattribute__` and `__getattr__`."
   ]
  },
  {
   "cell_type": "markdown",
   "metadata": {},
   "source": [
    "### Q2. What is the difference between properties and descriptors?\n"
   ]
  },
  {
   "cell_type": "markdown",
   "metadata": {},
   "source": [
    "Properties and descriptors are both mechanisms in Python that allow you to define custom behavior for attribute access, but they have different levels of abstraction and provide distinct capabilities:\n",
    "\n",
    "Properties:\n",
    "- Properties are a high-level, Pythonic way of implementing attribute accessors and mutators (getters and setters) for object attributes.\n",
    "- Properties are defined using the `@property` decorator on a method, which is used as the getter for the attribute.\n",
    "- Properties provide a clean and intuitive syntax for accessing and modifying attributes, resembling direct attribute access.\n",
    "- They allow you to define custom logic, computations, or validations for attribute access, making it easy to maintain encapsulation and control over attribute behavior.\n",
    "- Properties are accessed and assigned like regular attributes, without explicitly calling methods.\n",
    "\n",
    "Descriptors:\n",
    "- Descriptors are a lower-level protocol that allows you to define the behavior of attribute access at a more granular level.\n",
    "- Descriptors are defined by implementing the descriptor protocol through the `__get__`, `__set__`, or `__delete__` methods.\n",
    "- Descriptors can be used to define custom behavior for attribute access, modification, or deletion.\n",
    "- Descriptors are typically used by defining descriptor classes and assigning instances of these classes to class attributes.\n",
    "- They allow you to have fine-grained control over attribute access and enable behaviors such as lazy loading, type checking, or data validation.\n",
    "\n",
    "In summary, properties provide a higher-level, declarative approach for defining custom attribute accessors and mutators, while descriptors offer a lower-level protocol for implementing attribute access behaviors. Properties are often used for simple cases where you want to define custom behavior for specific attributes, while descriptors provide more flexibility and control for more complex attribute management scenarios."
   ]
  },
  {
   "cell_type": "markdown",
   "metadata": {},
   "source": [
    "Q3. What are the key differences in functionality between __getattr__ and __getattribute__, as well as properties and descriptors?"
   ]
  },
  {
   "cell_type": "markdown",
   "metadata": {},
   "source": [
    "The key differences in functionality between `__getattr__`, `__getattribute__`, properties, and descriptors are as follows:\n",
    "\n",
    "1. __getattr__ vs. __getattribute__:\n",
    "   - `__getattr__` is called when an attribute is not found through normal attribute lookup. It is a fallback method that is only invoked if the attribute is not present in the instance or its class hierarchy.\n",
    "   - `__getattribute__` is called for every attribute access, regardless of whether the attribute exists or not. It is invoked before the regular attribute lookup process.\n",
    "   - `__getattr__` is typically used for handling non-existent or dynamically computed attributes, while `__getattribute__` is used for intercepting all attribute accesses and potentially modifying or overriding them. Caution must be taken when implementing `__getattribute__` to avoid infinite recursion.\n",
    "\n",
    "2. Properties vs. Descriptors:\n",
    "   - Properties provide a high-level, Pythonic way of defining custom attribute accessors and mutators (getters and setters). They are defined using the `@property` decorator and accessed like regular attributes.\n",
    "   - Descriptors provide a lower-level protocol for defining custom attribute behavior. They involve implementing the descriptor protocol through the `__get__`, `__set__`, or `__delete__` methods.\n",
    "   - Properties are primarily used to define custom behavior for specific attributes. They offer a clean and intuitive syntax for attribute access and can perform additional computations or validations.\n",
    "   - Descriptors, on the other hand, provide more granular control over attribute access and can be assigned to class attributes. They allow for fine-grained customization and enable behaviors such as lazy loading, type checking, or data validation.\n",
    "\n",
    "In summary, `__getattr__` and `__getattribute__` control attribute access at different points in the lookup process. Properties provide a higher-level, declarative approach for defining attribute accessors and mutators. Descriptors offer a lower-level protocol for implementing custom attribute behavior with more flexibility and control."
   ]
  },
  {
   "cell_type": "code",
   "execution_count": null,
   "metadata": {},
   "outputs": [],
   "source": []
  },
  {
   "cell_type": "code",
   "execution_count": null,
   "metadata": {},
   "outputs": [],
   "source": []
  }
 ],
 "metadata": {
  "kernelspec": {
   "display_name": "base",
   "language": "python",
   "name": "python3"
  },
  "language_info": {
   "codemirror_mode": {
    "name": "ipython",
    "version": 3
   },
   "file_extension": ".py",
   "mimetype": "text/x-python",
   "name": "python",
   "nbconvert_exporter": "python",
   "pygments_lexer": "ipython3",
   "version": "3.8.5"
  },
  "orig_nbformat": 4
 },
 "nbformat": 4,
 "nbformat_minor": 2
}
