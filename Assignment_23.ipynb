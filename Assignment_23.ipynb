{
 "cells": [
  {
   "cell_type": "markdown",
   "metadata": {},
   "source": [
    "# Python Advanced - Assignment 23"
   ]
  },
  {
   "cell_type": "markdown",
   "metadata": {},
   "source": [
    "### Q1. If you have any, what are your choices for increasing the comparison between different figures on the same graph?\n"
   ]
  },
  {
   "cell_type": "markdown",
   "metadata": {},
   "source": [
    "When comparing different figures on the same graph, you have several choices to increase the comparison:\n",
    "\n",
    "1. Adjust the scale of the axes: By adjusting the scale of the axes, you can ensure that the data points of different figures are spread out enough for easy comparison. You can manually set the range or use automatic scaling based on the data.\n",
    "\n",
    "2. Use different colors or patterns: Assigning different colors or patterns to the lines or markers of different figures can help visually distinguish them. This allows for easier comparison between the figures.\n",
    "\n",
    "3. Add labels or legends: Provide clear labels or legends for each figure on the graph. Labels can be added to the axes or directly on the data points, while legends can be used to explain the meaning of different lines or markers.\n",
    "\n",
    "4. Utilize different line styles or marker types: Varying the line styles or marker types for different figures can enhance visual contrast. For example, you can use solid lines, dashed lines, or dotted lines, or different marker shapes such as circles, squares, or triangles.\n",
    "\n",
    "5. Arrange figures in different subplots: If you want a more explicit comparison between figures, you can place them in separate subplots within the same figure. This allows for side-by-side or stacked visual comparison.\n",
    "\n",
    "6. Provide annotations or highlights: If there are specific data points or features that need attention, you can annotate or highlight them to draw focus. This can be done through text labels, arrows, or shading.\n",
    "\n",
    "7. Use additional visual aids: Consider incorporating additional visual aids like gridlines, reference lines, or trend lines to provide context or guide the comparison between figures.\n",
    "\n",
    "The choice of which methods to use depends on the specific data and the goals of the comparison. Experimenting with different techniques and combinations can help enhance the clarity and effectiveness of comparing different figures on the same graph."
   ]
  },
  {
   "cell_type": "markdown",
   "metadata": {},
   "source": [
    "### Q2. Can you explain the benefit of compound interest over a higher rate of interest that does not compound after reading this chapter?\n"
   ]
  },
  {
   "cell_type": "markdown",
   "metadata": {},
   "source": [
    "Compound interest refers to the concept of earning interest not only on the initial principal amount but also on the accumulated interest from previous periods. The benefit of compound interest over a higher rate of interest that does not compound is the exponential growth of wealth over time.\n",
    "\n",
    "When interest compounds, the interest earned in each period is added to the principal, and subsequent interest calculations are based on the new higher principal amount. This compounding effect leads to a snowball effect where the growth accelerates over time. In contrast, a higher rate of interest that does not compound will only provide a linear growth in wealth.\n",
    "\n",
    "The benefit of compound interest can be better understood through an example. Let's consider two scenarios:\n",
    "\n",
    "Scenario 1: Higher rate of interest without compounding\n",
    "Suppose you have an investment of $10,000 earning a 10% annual interest rate that does not compound. After one year, you will earn $1,000 in interest. However, the interest remains separate from the principal, and subsequent interest calculations are based on the initial principal of $10,000. So, after five years, you will still earn $1,000 per year, resulting in a total interest of $5,000 over five years.\n",
    "\n",
    "Scenario 2: Lower rate of interest with compounding\n",
    "Now, let's consider an investment with a lower interest rate of 8% that compounds annually. After the first year, you will earn $800 in interest, which is added to the principal. In the second year, you will earn 8% interest on the new principal, resulting in a higher interest amount of $864. This compounding effect continues, and over five years, the interest earned will accumulate to a higher value.\n",
    "\n",
    "The key benefit of compound interest is that it allows your wealth to grow faster over time compared to a higher rate of interest that does not compound. By reinvesting the earned interest, you can generate additional returns on top of the initial investment. This compounding effect becomes more significant over longer periods, leading to substantial growth in wealth.\n",
    "\n",
    "It is essential to note that compound interest benefits from time. The longer the investment period, the more pronounced the growth becomes. This highlights the importance of starting early and allowing your investments to compound over a longer duration.\n",
    "\n",
    "In summary, compound interest provides exponential growth of wealth over time by reinvesting the earned interest. It allows for the accumulation of greater returns compared to a higher rate of interest that does not compound."
   ]
  },
  {
   "cell_type": "markdown",
   "metadata": {},
   "source": [
    "### Q3. What is a histogram, exactly? Name a numpy method for creating such a graph.\n"
   ]
  },
  {
   "cell_type": "markdown",
   "metadata": {},
   "source": [
    "A histogram is a graphical representation of the distribution of a dataset. It provides a visual summary of the frequency or count of data points falling into different bins or intervals.\n",
    "\n",
    "In a histogram, the x-axis represents the range of values in the dataset, divided into equal-width bins. The y-axis represents the frequency or count of data points falling into each bin. The height of each bar in the histogram corresponds to the number of data points within that bin.\n",
    "\n",
    "NumPy provides a method called `numpy.histogram` for creating a histogram. It takes an input array of data and returns the counts and bin edges for constructing the histogram.\n",
    "\n",
    "Here's an example of how to create a histogram using NumPy's `numpy.histogram`:\n",
    "\n",
    "```python\n",
    "import numpy as np\n",
    "import matplotlib.pyplot as plt\n",
    "\n",
    "# Generate random data\n",
    "data = np.random.normal(loc=0, scale=1, size=1000)\n",
    "\n",
    "# Create histogram\n",
    "counts, bins, _ = np.histogram(data, bins=10)\n",
    "\n",
    "# Plot histogram\n",
    "plt.hist(data, bins=10)\n",
    "plt.xlabel('Value')\n",
    "plt.ylabel('Frequency')\n",
    "plt.title('Histogram')\n",
    "plt.show()\n",
    "```\n",
    "\n",
    "In this example, the `numpy.histogram` function is used to compute the counts and bin edges for the data. The resulting counts and bins are then passed to `plt.hist` function from the matplotlib library to create the histogram plot. The resulting histogram represents the frequency distribution of the random data.\n",
    "\n",
    "The `numpy.histogram` function allows you to control the number of bins, the range of values, and other parameters to customize the histogram based on your specific needs.\n",
    "\n",
    "Note: The example above uses matplotlib for plotting the histogram. While NumPy provides the histogram computation, matplotlib is commonly used for visualizing the histogram data."
   ]
  },
  {
   "cell_type": "code",
   "execution_count": 2,
   "metadata": {},
   "outputs": [
    {
     "data": {
      "image/png": "[encoded data removed]",
      "text/plain": [
       "<Figure size 432x288 with 1 Axes>"
      ]
     },
     "metadata": {
      "needs_background": "light"
     },
     "output_type": "display_data"
    }
   ],
   "source": [
    "import numpy as np\n",
    "import matplotlib.pyplot as plt\n",
    "\n",
    "# Generate random data\n",
    "data = np.random.normal(loc=0, scale=1, size=1000)\n",
    "\n",
    "# Create histogram\n",
    "counts, bins= np.histogram(data, bins=10)\n",
    "\n",
    "# Plot histogram\n",
    "plt.hist(data, bins=10)\n",
    "plt.xlabel('Value')\n",
    "plt.ylabel('Frequency')\n",
    "plt.title('Histogram')\n",
    "plt.show()\n"
   ]
  },
  {
   "cell_type": "markdown",
   "metadata": {},
   "source": [
    "### Q4. If necessary, how do you change the aspect ratios between the X and Y axes?\n"
   ]
  },
  {
   "cell_type": "markdown",
   "metadata": {},
   "source": [
    "To change the aspect ratio between the X and Y axes in a plot, you can use the `matplotlib.pyplot.axis` function with the `equal` parameter or the `matplotlib.pyplot.gca` function with the `set_aspect` method.\n",
    "\n",
    "Here are two different approaches:\n",
    "\n",
    "1. Using `matplotlib.pyplot.axis` with `equal` parameter:\n",
    "```python\n",
    "import matplotlib.pyplot as plt\n",
    "\n",
    "# Plot your data\n",
    "plt.plot(x_data, y_data)\n",
    "\n",
    "# Set equal aspect ratio\n",
    "plt.axis('equal')\n",
    "\n",
    "# Show the plot\n",
    "plt.show()\n",
    "```\n",
    "\n",
    "In this approach, `plt.axis('equal')` sets the aspect ratio between the X and Y axes to be equal, resulting in an equal scaling in both directions.\n",
    "\n",
    "2. Using `matplotlib.pyplot.gca` with `set_aspect` method:\n",
    "```python\n",
    "import matplotlib.pyplot as plt\n",
    "\n",
    "# Plot your data\n",
    "plt.plot(x_data, y_data)\n",
    "\n",
    "# Get the current axes\n",
    "ax = plt.gca()\n",
    "\n",
    "# Set aspect ratio\n",
    "ax.set_aspect('equal')\n",
    "\n",
    "# Show the plot\n",
    "plt.show()\n",
    "```\n",
    "\n",
    "Here, `plt.gca()` retrieves the current axes, and then `ax.set_aspect('equal')` is used to set the aspect ratio between the X and Y axes to be equal.\n",
    "\n",
    "Both approaches will adjust the aspect ratio of the plot to make the scaling equal between the X and Y axes. You can modify the aspect ratio as needed based on your specific requirements."
   ]
  },
  {
   "cell_type": "markdown",
   "metadata": {},
   "source": [
    "### Q5. Compare and contrast the three types of array multiplication between two numpy arrays: dot product, outer product, and regular multiplication of two numpy arrays.\n"
   ]
  },
  {
   "cell_type": "markdown",
   "metadata": {},
   "source": [
    "The three types of array multiplication in NumPy, namely dot product, outer product, and regular multiplication, have different mathematical interpretations and produce different results.\n",
    "\n",
    "1. Dot Product:\n",
    "The dot product is a type of matrix multiplication operation that calculates the sum of the element-wise products of the corresponding elements in the two input arrays. The dot product is only defined for arrays with compatible dimensions, where the inner dimensions must match.\n",
    "\n",
    "Example:\n",
    "```python\n",
    "import numpy as np\n",
    "\n",
    "a = np.array([1, 2, 3])\n",
    "b = np.array([4, 5, 6])\n",
    "\n",
    "dot_product = np.dot(a, b)\n",
    "```\n",
    "\n",
    "In this example, the dot product of arrays `a` and `b` is calculated, resulting in a scalar value. The dot product is useful for various mathematical operations, such as calculating the magnitude of vectors, finding the cosine similarity between vectors, or performing linear algebra computations like matrix multiplication.\n",
    "\n",
    "2. Outer Product:\n",
    "The outer product multiplies each element of the first array with each element of the second array, resulting in a new array with dimensions equal to the product of the input array sizes. The outer product is useful for calculating the Cartesian product or generating matrices for various operations.\n",
    "\n",
    "Example:\n",
    "```python\n",
    "import numpy as np\n",
    "\n",
    "a = np.array([1, 2, 3])\n",
    "b = np.array([4, 5, 6])\n",
    "\n",
    "outer_product = np.outer(a, b)\n",
    "```\n",
    "\n",
    "In this example, the outer product of arrays `a` and `b` is calculated, resulting in a 2-dimensional array of shape (3, 3). Each element of `a` is multiplied with each element of `b`, producing a matrix of all possible combinations.\n",
    "\n",
    "3. Regular Multiplication:\n",
    "Regular multiplication between two NumPy arrays performs element-wise multiplication. Each element in the first array is multiplied with the corresponding element in the second array, resulting in an array of the same shape as the input arrays.\n",
    "\n",
    "Example:\n",
    "```python\n",
    "import numpy as np\n",
    "\n",
    "a = np.array([1, 2, 3])\n",
    "b = np.array([4, 5, 6])\n",
    "\n",
    "regular_multiplication = a * b\n",
    "```\n",
    "\n",
    "In this example, regular multiplication is performed element-wise between arrays `a` and `b`, resulting in an array of the same shape as `a` and `b`.\n",
    "\n",
    "To summarize the differences:\n",
    "- Dot product produces a scalar value and requires compatible dimensions for multiplication.\n",
    "- Outer product generates a new array with dimensions equal to the product of input array sizes.\n",
    "- Regular multiplication performs element-wise multiplication, resulting in an array of the same shape as the input arrays.\n",
    "\n",
    "Each type of multiplication has its own specific mathematical interpretation and use cases. The appropriate choice depends on the desired outcome and the mathematical operation being performed."
   ]
  },
  {
   "cell_type": "code",
   "execution_count": 5,
   "metadata": {},
   "outputs": [
    {
     "name": "stdout",
     "output_type": "stream",
     "text": [
      "32\n"
     ]
    }
   ],
   "source": [
    "# dot product\n",
    "import numpy as np\n",
    "\n",
    "a = np.array([1, 2, 3])\n",
    "b = np.array([4, 5, 6])\n",
    "\n",
    "dot_product = np.dot(a, b)\n",
    "print(dot_product)"
   ]
  },
  {
   "cell_type": "code",
   "execution_count": 7,
   "metadata": {},
   "outputs": [
    {
     "name": "stdout",
     "output_type": "stream",
     "text": [
      "[[ 4  5  6]\n",
      " [ 8 10 12]\n",
      " [12 15 18]]\n"
     ]
    }
   ],
   "source": [
    "# outer product\n",
    "import numpy as np\n",
    "\n",
    "a = np.array([1, 2, 3])\n",
    "b = np.array([4, 5, 6])\n",
    "\n",
    "outer_product = np.outer(a, b)\n",
    "print(outer_product)"
   ]
  },
  {
   "cell_type": "code",
   "execution_count": 8,
   "metadata": {},
   "outputs": [
    {
     "name": "stdout",
     "output_type": "stream",
     "text": [
      "[ 4 10 18]\n"
     ]
    }
   ],
   "source": [
    "# regular multiplication\n",
    "import numpy as np\n",
    "\n",
    "a = np.array([1, 2, 3])\n",
    "b = np.array([4, 5, 6])\n",
    "\n",
    "regular_multiplication = a * b\n",
    "print(regular_multiplication)"
   ]
  },
  {
   "cell_type": "markdown",
   "metadata": {},
   "source": [
    "### Q6. Before you buy a home, which numpy function will you use to measure your monthly mortgage payment?\n"
   ]
  },
  {
   "cell_type": "markdown",
   "metadata": {},
   "source": [
    "To calculate the monthly mortgage payment before buying a home, you can use the `numpy.pmt` function. The `numpy.pmt` function is used to calculate the fixed periodic payment required to repay a loan with a constant interest rate over a specified number of periods.\n",
    "\n",
    "Here's an example of how to use `numpy.pmt` to calculate the monthly mortgage payment:\n",
    "\n",
    "```python\n",
    "import numpy as np\n",
    "\n",
    "loan_amount = 200000   # Loan amount in dollars\n",
    "interest_rate = 0.04   # Annual interest rate (4%)\n",
    "loan_term = 30         # Loan term in years\n",
    "\n",
    "monthly_interest_rate = interest_rate / 12   # Monthly interest rate\n",
    "total_periods = loan_term * 12               # Total number of periods\n",
    "\n",
    "monthly_payment = np.pmt(monthly_interest_rate, total_periods, -loan_amount)\n",
    "```\n",
    "\n",
    "In this example, the `numpy.pmt` function is used to calculate the monthly payment. The `monthly_interest_rate` is the annual interest rate divided by 12 to get the monthly rate. The `total_periods` is calculated by multiplying the loan term (in years) by 12 to convert it to the total number of monthly periods. The `-loan_amount` represents the present value or loan amount, and the negative sign indicates cash outflow (payment).\n",
    "\n",
    "The `numpy.pmt` function returns the monthly payment amount required to repay the loan. The resulting `monthly_payment` value represents the estimated monthly mortgage payment.\n",
    "\n",
    "It's important to note that the `numpy.pmt` function assumes a constant interest rate throughout the loan term and does not consider additional costs such as taxes, insurance, or other fees. It provides an estimate for the monthly mortgage payment based on the provided inputs. For accurate and comprehensive mortgage calculations, it's recommended to consult with financial professionals or specialized mortgage calculators that consider all relevant factors and specific loan terms."
   ]
  },
  {
   "cell_type": "code",
   "execution_count": 10,
   "metadata": {},
   "outputs": [
    {
     "name": "stdout",
     "output_type": "stream",
     "text": [
      "954.8305909309076\n"
     ]
    },
    {
     "name": "stderr",
     "output_type": "stream",
     "text": [
      "<ipython-input-10-939ac955bc25>:10: DeprecationWarning: numpy.pmt is deprecated and will be removed from NumPy 1.20. Use numpy_financial.pmt instead (https://pypi.org/project/numpy-financial/).\n",
      "  monthly_payment = np.pmt(monthly_interest_rate, total_periods, -loan_amount)\n"
     ]
    }
   ],
   "source": [
    "import numpy as np\n",
    "\n",
    "loan_amount = 200000   # Loan amount in dollars\n",
    "interest_rate = 0.04   # Annual interest rate (4%)\n",
    "loan_term = 30         # Loan term in years\n",
    "\n",
    "monthly_interest_rate = interest_rate / 12   # Monthly interest rate\n",
    "total_periods = loan_term * 12               # Total number of periods\n",
    "\n",
    "monthly_payment = np.pmt(monthly_interest_rate, total_periods, -loan_amount)\n",
    "print(monthly_payment)"
   ]
  },
  {
   "cell_type": "markdown",
   "metadata": {},
   "source": [
    "### Q7. Can string data be stored in numpy arrays? If so, list at least one restriction that applies to this data.\n"
   ]
  },
  {
   "cell_type": "markdown",
   "metadata": {},
   "source": [
    "Yes, string data can be stored in NumPy arrays using the `numpy.array` data type `dtype='str'` or `dtype='object'`. However, there are a few restrictions and considerations when working with string data in NumPy arrays:\n",
    "\n",
    "1. Fixed Length: NumPy arrays require fixed-length strings, meaning each string in the array must have the same length. This length is determined by the maximum length of any string in the array. If a string is shorter than the maximum length, it will be padded with spaces.\n",
    "\n",
    "2. Performance: String operations in NumPy arrays can be slower compared to numerical operations. This is because strings are variable-length objects, and manipulating them involves more overhead.\n",
    "\n",
    "3. Memory Usage: Strings in NumPy arrays are stored as object references, which means they consume more memory compared to numerical data types. Additionally, if the strings have different lengths, it can result in additional memory overhead due to padding.\n",
    "\n",
    "4. Limited String Manipulation: NumPy provides limited string manipulation functionality compared to specialized string processing libraries like Python's built-in `str` methods or the `re` module. NumPy arrays are primarily designed for numerical computations, so advanced string operations may require using external libraries.\n",
    "\n",
    "5. Indexing and Slicing: Indexing and slicing operations on NumPy arrays containing string data work differently than with numerical data. Each element in the array is a string object, so indexing and slicing return string objects rather than individual characters or substrings.\n",
    "\n",
    "It's worth noting that if you need to work extensively with string data, there are specialized libraries like Pandas that provide more comprehensive and efficient support for string manipulation and analysis.\n",
    "\n",
    "In summary, while string data can be stored in NumPy arrays, there are restrictions related to fixed length, performance, memory usage, limited string manipulation, and indexing/slicing behavior. These considerations should be taken into account when working with string data in NumPy arrays and evaluating whether NumPy is the most suitable tool for your specific string processing needs."
   ]
  },
  {
   "cell_type": "code",
   "execution_count": null,
   "metadata": {},
   "outputs": [],
   "source": []
  },
  {
   "cell_type": "code",
   "execution_count": null,
   "metadata": {},
   "outputs": [],
   "source": []
  },
  {
   "cell_type": "code",
   "execution_count": null,
   "metadata": {},
   "outputs": [],
   "source": []
  }
 ],
 "metadata": {
  "kernelspec": {
   "display_name": "base",
   "language": "python",
   "name": "python3"
  },
  "language_info": {
   "codemirror_mode": {
    "name": "ipython",
    "version": 3
   },
   "file_extension": ".py",
   "mimetype": "text/x-python",
   "name": "python",
   "nbconvert_exporter": "python",
   "pygments_lexer": "ipython3",
   "version": "3.8.5"
  },
  "orig_nbformat": 4
 },
 "nbformat": 4,
 "nbformat_minor": 2
}
