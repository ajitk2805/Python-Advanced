{
 "cells": [
  {
   "cell_type": "markdown",
   "metadata": {},
   "source": [
    "# Python Advanced - Assignment 14"
   ]
  },
  {
   "cell_type": "markdown",
   "metadata": {},
   "source": [
    "### Q1. Is an assignment operator like += only for show? Is it possible that it would lead to faster results at the runtime?\n"
   ]
  },
  {
   "cell_type": "markdown",
   "metadata": {},
   "source": [
    "No, the assignment operator `+=` is not just for show; it can indeed lead to faster results at runtime in certain scenarios. The `+=` operator is a shorthand notation that combines addition and assignment. It can be used to update the value of a variable by adding a specified value to its current value.\n",
    "\n",
    "The potential for faster results with the `+=` operator arises due to two reasons:\n",
    "\n",
    "1. In-Place Operation:\n",
    "   - The `+=` operator performs an in-place operation, meaning it modifies the variable in memory without creating a new object.\n",
    "   - When using `+=`, the original variable is updated directly, avoiding the overhead of creating a new object and assigning it back to the variable.\n",
    "\n",
    "2. Mutable Objects:\n",
    "   - The performance benefits of the `+=` operator are more apparent when used with mutable objects like lists or arrays.\n",
    "   - Mutable objects can be modified in place, and using `+=` can avoid unnecessary memory allocations and copying of data.\n",
    "\n",
    "Let's consider an example that demonstrates the potential performance gain of the `+=` operator:\n",
    "\n",
    "```python\n",
    "# Using += operator\n",
    "my_list = [1, 2, 3]\n",
    "for _ in range(1000000):\n",
    "    my_list += [1]\n",
    "\n",
    "# Using append() method\n",
    "my_list = [1, 2, 3]\n",
    "for _ in range(1000000):\n",
    "    my_list.append(1)\n",
    "```\n",
    "\n",
    "In the example, both approaches add the value `1` to the list `my_list` one million times. The first approach uses the `+=` operator to perform in-place addition, while the second approach uses the `append()` method to add elements to the list.\n",
    "\n",
    "In general, the `+=` operator may offer a slight performance advantage over equivalent operations that involve creating new objects or copying data. However, the actual performance gain can vary depending on the specific scenario, the type of objects involved, and other factors such as the size of the data.\n",
    "\n",
    "It's worth noting that the performance gain from using `+=` may be negligible or even reversed in certain cases, especially when working with immutable objects like strings or numbers. Therefore, it is recommended to consider performance optimizations based on the specific context and profile your code if performance is a critical concern."
   ]
  },
  {
   "cell_type": "markdown",
   "metadata": {},
   "source": [
    "### Q2. What is the smallest number of statements you'd have to write in most programming languages to replace the Python expression a, b = a + b, a?\n"
   ]
  },
  {
   "cell_type": "markdown",
   "metadata": {},
   "source": [
    "In most programming languages, you would need at least three statements to replace the Python expression `a, b = a + b, a` with equivalent functionality. This is because the expression performs simultaneous assignment to `a` and `b`, which is not a feature present in all programming languages. The minimum three statements required are as follows:\n",
    "\n",
    "1. Temporary Variable Assignment:\n",
    "   - Create a temporary variable to store the value of `a + b`.\n",
    "   - Assign the value of `a` to the temporary variable.\n",
    "   - Example:\n",
    "\n",
    "     ```python\n",
    "     temp = a + b\n",
    "     temp_a = a\n",
    "     ```\n",
    "\n",
    "2. Update `a`:\n",
    "   - Assign the value of `temp` (calculated in the previous step) to `a`.\n",
    "   - Example:\n",
    "\n",
    "     ```python\n",
    "     a = temp\n",
    "     ```\n",
    "\n",
    "3. Update `b`:\n",
    "   - Assign the value of `temp_a` (the original value of `a`) to `b`.\n",
    "   - Example:\n",
    "\n",
    "     ```python\n",
    "     b = temp_a\n",
    "     ```\n",
    "\n",
    "The three statements above mimic the behavior of the Python expression `a, b = a + b, a` in other programming languages by performing the required calculations and assignments step by step.\n",
    "\n",
    "It's important to note that there might be some programming languages that provide specific syntax or features to perform simultaneous assignments, similar to Python's multiple assignment. In such cases, the number of statements required could be reduced. However, in most general-purpose programming languages, at least three statements would be needed to achieve the same functionality."
   ]
  },
  {
   "cell_type": "markdown",
   "metadata": {},
   "source": [
    "### Q3. In Python, what is the most effective way to set a list of 100 integers to 0?\n"
   ]
  },
  {
   "cell_type": "markdown",
   "metadata": {},
   "source": [
    "In Python, the most effective way to set a list of 100 integers to 0 is by using the multiplication operator (`*`) with a list comprehension. This approach allows you to create a list of a specific length with all elements initialized to 0 in a concise and efficient manner.\n",
    "\n",
    "Here's an example:\n",
    "\n",
    "```python\n",
    "my_list = [0] * 100\n",
    "```\n",
    "\n",
    "In the example, `[0] * 100` creates a list containing 100 zeros. The multiplication operator replicates the single-element list `[0]` 100 times, resulting in a new list with 100 elements, all set to 0.\n",
    "\n",
    "This method is highly efficient because it avoids any iteration or explicit assignment of elements. It directly creates a list with the desired length and initializes all elements to 0 in a single operation.\n",
    "\n",
    "Using this approach, you can quickly and effectively set a list of 100 integers (or any other desired length) to 0 without any explicit loops or assignments."
   ]
  },
  {
   "cell_type": "markdown",
   "metadata": {},
   "source": [
    "### Q4. What is the most effective way to initialise a list of 99 integers that repeats the sequence 1, 2, 3? S If necessary, show step-by-step instructions on how to accomplish this.\n"
   ]
  },
  {
   "cell_type": "markdown",
   "metadata": {},
   "source": [
    "To initialize a list of 99 integers that repeats the sequence 1, 2, 3, the most effective way is to use the modulo operator and list comprehension. This approach allows you to create the desired pattern in a concise and efficient manner.\n",
    "\n",
    "Here's the step-by-step process to accomplish this:\n",
    "\n",
    "1. Define the sequence:\n",
    "   - Create a list representing the repeating sequence you want to generate, in this case, `[1, 2, 3]`.\n",
    "\n",
    "2. Determine the length:\n",
    "   - Determine the desired length of the resulting list, in this case, 99.\n",
    "\n",
    "3. Generate the repeated sequence:\n",
    "   - Use list comprehension and the modulo operator to create the repeated sequence.\n",
    "   - Repeat the sequence by indexing it with the modulo of the current index and the length of the sequence.\n",
    "   - Example:\n",
    "     ```python\n",
    "     sequence = [1, 2, 3]\n",
    "     length = 99\n",
    "     result = [sequence[i % len(sequence)] for i in range(length)]\n",
    "     ```\n",
    "\n",
    "In the example, the list comprehension `[sequence[i % len(sequence)] for i in range(length)]` generates the desired list of 99 integers. The modulo operator (`i % len(sequence)`) ensures that the sequence repeats by wrapping around to the beginning once the index exceeds the length of the sequence.\n",
    "\n",
    "The resulting `result` list will contain the repeated sequence `[1, 2, 3]` for a total of 99 integers.\n",
    "\n",
    "Using this approach, you can efficiently initialize a list of 99 integers with a repeating sequence without the need for explicit loops or extensive code."
   ]
  },
  {
   "cell_type": "markdown",
   "metadata": {},
   "source": [
    "### Q5. If you're using IDLE to run a Python application, explain how to print a multidimensional list as efficiently?\n"
   ]
  },
  {
   "cell_type": "markdown",
   "metadata": {},
   "source": [
    "In IDLE, you can efficiently print a multidimensional list by using the `pprint` module, which provides a more readable and structured output. The `pprint` module allows you to format and print complex data structures, including multidimensional lists, in a more organized manner.\n",
    "\n",
    "Here's how you can use the `pprint` module to print a multidimensional list efficiently in IDLE:\n",
    "\n",
    "1. Import the `pprint` module:\n",
    "   - At the beginning of your code, import the `pprint` module using the following statement:\n",
    "     ```python\n",
    "     import pprint\n",
    "     ```\n",
    "\n",
    "2. Use `pprint.pprint()` to print the list:\n",
    "   - Instead of using the regular `print()` function, use the `pprint.pprint()` function to print the multidimensional list.\n",
    "   - Pass the multidimensional list as an argument to the `pprint.pprint()` function.\n",
    "   - Example:\n",
    "     ```python\n",
    "     my_list = [[1, 2, 3], [4, 5, 6], [7, 8, 9]]\n",
    "     pprint.pprint(my_list)\n",
    "     ```\n",
    "\n",
    "   - The output will be a formatted and more readable representation of the multidimensional list:\n",
    "     ```\n",
    "     [[1, 2, 3],\n",
    "      [4, 5, 6],\n",
    "      [7, 8, 9]]\n",
    "     ```\n",
    "\n",
    "Using the `pprint` module allows you to print multidimensional lists in a more visually appealing format, especially when the lists contain nested elements or have a large number of elements.\n",
    "\n",
    "It's important to note that the `pprint` module is primarily designed for improving the readability of complex data structures during development and debugging. If you need a more customized or specific formatting of the multidimensional list, you may need to implement your own custom printing logic or utilize additional formatting options available in Python."
   ]
  },
  {
   "cell_type": "markdown",
   "metadata": {},
   "source": [
    "### Q6. Is it possible to use list comprehension with a string? If so, how can you go about doing it?"
   ]
  },
  {
   "cell_type": "markdown",
   "metadata": {},
   "source": [
    "Yes, it is possible to use list comprehension with a string in Python. List comprehension allows you to iterate over the characters of a string and create a new list based on certain conditions or transformations.\n",
    "\n",
    "Here's how you can use list comprehension with a string:\n",
    "\n",
    "1. Basic List Comprehension:\n",
    "   - To create a list of characters from a string, you can iterate over the string using list comprehension.\n",
    "   - Example:\n",
    "     ```python\n",
    "     string = \"Hello, World!\"\n",
    "     character_list = [char for char in string]\n",
    "     ```\n",
    "\n",
    "   - In this example, `character_list` will contain each character from the string `\"Hello, World!\"` as separate elements in the list.\n",
    "\n",
    "2. Filtering with List Comprehension:\n",
    "   - List comprehension allows you to filter characters based on specific conditions using an optional `if` statement.\n",
    "   - Example:\n",
    "     ```python\n",
    "     string = \"Hello, World!\"\n",
    "     uppercase_list = [char for char in string if char.isupper()]\n",
    "     ```\n",
    "\n",
    "   - In this example, `uppercase_list` will contain only the uppercase characters from the string.\n",
    "\n",
    "3. Transforming with List Comprehension:\n",
    "   - You can also transform the characters in the string during list comprehension.\n",
    "   - Example:\n",
    "     ```python\n",
    "     string = \"Hello, World!\"\n",
    "     lowercase_list = [char.lower() for char in string]\n",
    "     ```\n",
    "\n",
    "   - In this example, `lowercase_list` will contain all the characters from the string converted to lowercase.\n",
    "\n",
    "List comprehension allows you to perform various operations on a string, including creating a list of characters, filtering based on conditions, or transforming the characters. It provides a concise and efficient way to work with strings and generate new lists based on the string's contents."
   ]
  },
  {
   "cell_type": "markdown",
   "metadata": {},
   "source": [
    "### Q7. From the command line, how do you get support with a user-written Python programme? Is this possible from inside IDLE?\n"
   ]
  },
  {
   "cell_type": "markdown",
   "metadata": {},
   "source": [
    "From the command line, you can get support with a user-written Python program by accessing the Python interpreter's help system using the `help()` function. You can pass the name of a module, function, class, or keyword to get information and documentation about it.\n",
    "\n",
    "Here's how you can use the `help()` function from the command line:\n",
    "\n",
    "1. Open the command prompt or terminal.\n",
    "2. Launch the Python interpreter by typing `python` or `python3`.\n",
    "3. Enter the `help()` function followed by the item you want help with.\n",
    "   - For example, `help(math)` will display information about the `math` module.\n",
    "   - `help(print)` will provide details about the `print` function.\n",
    "4. Press Enter to see the help content. You can navigate through the help information using the prompt.\n",
    "\n",
    "Regarding IDLE, it provides an integrated help system that allows you to access Python's documentation from within the IDLE environment. You can access the help system in IDLE using the following steps:\n",
    "\n",
    "1. Launch IDLE.\n",
    "2. Go to the \"Help\" menu.\n",
    "3. Select \"Python Docs\" or \"IDLE Help\" to open the help system.\n",
    "4. In the help window, you can search for specific topics or browse the available documentation.\n",
    "\n",
    "IDLE's help system provides a graphical interface for accessing Python's documentation, making it convenient to look up information and get support within the IDLE environment.\n",
    "\n",
    "Both the command line `help()` function and IDLE's help system provide valuable resources for accessing Python's documentation and getting assistance with user-written Python programs."
   ]
  },
  {
   "cell_type": "markdown",
   "metadata": {},
   "source": [
    "### Q8. Functions are said to be “first-class objects” in Python but not in most other languages, such as C++ or Java. What can you do in Python with a function (callable object) that you can't do in C or C++?\n"
   ]
  },
  {
   "cell_type": "markdown",
   "metadata": {},
   "source": [
    "In Python, functions are considered \"first-class objects,\" which means they have properties and behaviors that allow them to be treated like any other object in the language. This gives functions additional flexibility and capabilities compared to languages like C or C++. Here are some things you can do with functions in Python that are not possible or less straightforward in C or C++:\n",
    "\n",
    "1. Assign Functions to Variables:\n",
    "   - In Python, you can assign a function to a variable, treating the function as a value.\n",
    "   - Example:\n",
    "     ```python\n",
    "     def say_hello():\n",
    "         print(\"Hello!\")\n",
    "\n",
    "     func = say_hello  # Assigning the function to a variable\n",
    "\n",
    "     func()  # Calling the function through the variable\n",
    "     ```\n",
    "\n",
    "2. Pass Functions as Arguments:\n",
    "   - Functions can be passed as arguments to other functions in Python.\n",
    "   - This enables higher-order functions and allows for greater flexibility in program design.\n",
    "   - Example:\n",
    "     ```python\n",
    "     def greet(func):\n",
    "         func()\n",
    "\n",
    "     def say_hello():\n",
    "         print(\"Hello!\")\n",
    "\n",
    "     greet(say_hello)  # Passing the function as an argument\n",
    "     ```\n",
    "\n",
    "3. Return Functions from Functions:\n",
    "   - In Python, functions can return other functions as their return value.\n",
    "   - This allows for the creation of closures and facilitates more advanced programming techniques.\n",
    "   - Example:\n",
    "     ```python\n",
    "     def get_multiplier(factor):\n",
    "         def multiplier(x):\n",
    "             return x * factor\n",
    "         return multiplier\n",
    "\n",
    "     double = get_multiplier(2)  # Returning a function\n",
    "\n",
    "     print(double(5))  # Output: 10\n",
    "     ```\n",
    "\n",
    "4. Store Functions in Data Structures:\n",
    "   - Functions can be stored in data structures like lists, dictionaries, or sets in Python.\n",
    "   - This provides flexibility in organizing and manipulating collections of functions.\n",
    "   - Example:\n",
    "     ```python\n",
    "     def say_hello():\n",
    "         print(\"Hello!\")\n",
    "\n",
    "     def say_goodbye():\n",
    "         print(\"Goodbye!\")\n",
    "\n",
    "     funcs = [say_hello, say_goodbye]  # Storing functions in a list\n",
    "\n",
    "     for func in funcs:\n",
    "         func()  # Calling functions from the list\n",
    "     ```\n",
    "\n",
    "These are just a few examples of how Python's support for treating functions as first-class objects provides additional flexibility and power. It enables advanced programming techniques like higher-order functions, closures, and dynamic function composition, making Python a more expressive and versatile language compared to languages like C or C++."
   ]
  },
  {
   "cell_type": "markdown",
   "metadata": {},
   "source": [
    "### Q9. How do you distinguish between a wrapper, a wrapped feature, and a decorator?"
   ]
  },
  {
   "cell_type": "markdown",
   "metadata": {},
   "source": [
    "To distinguish between a wrapper, a wrapped feature, and a decorator, it's helpful to understand their roles and relationships in the context of programming:\n",
    "\n",
    "1. Wrapper:\n",
    "   - A wrapper refers to a function or an object that wraps around another function or object, providing additional functionality or modifying the behavior.\n",
    "   - The wrapper acts as an intermediary layer, allowing you to extend or modify the behavior of the wrapped feature without directly modifying its implementation.\n",
    "   - Wrappers are commonly used for adding pre-processing or post-processing steps, logging, error handling, or providing additional functionality around an existing feature.\n",
    "   - Wrappers can be implemented using functions, classes, or other mechanisms depending on the programming language and context.\n",
    "\n",
    "2. Wrapped Feature:\n",
    "   - The wrapped feature refers to the original function or object that is being wrapped or modified by the wrapper.\n",
    "   - It represents the core functionality or behavior that the wrapper enhances or extends.\n",
    "   - The wrapped feature can be any function, class, method, or object that is being wrapped to introduce additional functionality or behavior.\n",
    "\n",
    "3. Decorator:\n",
    "   - A decorator is a specific implementation pattern or syntax in certain programming languages that allows you to easily apply a wrapper to a function or method using a concise syntax.\n",
    "   - In Python, decorators are denoted by the `@decorator_name` syntax placed before the function or method definition.\n",
    "   - Decorators provide a convenient way to apply reusable functionality or modifications to multiple functions or methods by simply annotating them with the decorator.\n",
    "   - Under the hood, decorators are essentially wrappers that modify or enhance the behavior of the decorated function or method.\n",
    "\n",
    "To summarize, a wrapper is a general concept referring to a function or object that adds functionality or modifies the behavior of another feature. The wrapped feature is the original functionality or object being wrapped. A decorator, on the other hand, is a specific implementation pattern or syntax in some programming languages, including Python, that allows for easy application of wrappers to functions or methods. Decorators are a way to achieve the functionality of wrappers with a concise and convenient syntax."
   ]
  },
  {
   "cell_type": "markdown",
   "metadata": {},
   "source": [
    "### Q10. If a function is a generator function, what does it return?\n"
   ]
  },
  {
   "cell_type": "markdown",
   "metadata": {},
   "source": [
    "If a function is a generator function, it returns a generator object. A generator function is a special type of function in Python that uses the `yield` keyword instead of the `return` keyword to produce a series of values over multiple invocations.\n",
    "\n",
    "When a generator function is called, it does not immediately execute the function body like a regular function. Instead, it returns a generator object that can be iterated upon. The generator object is an iterator, and it generates values on-the-fly as they are requested, following the execution of the function's code.\n",
    "\n",
    "Here's an example of a generator function that generates a sequence of numbers:\n",
    "\n",
    "```python\n",
    "def number_generator():\n",
    "    yield 1\n",
    "    yield 2\n",
    "    yield 3\n",
    "\n",
    "my_generator = number_generator()\n",
    "```\n",
    "\n",
    "In the example, `number_generator()` is a generator function that uses the `yield` keyword to produce a sequence of numbers. When `number_generator()` is called, it returns a generator object, which is assigned to the variable `my_generator`.\n",
    "\n",
    "The generator object can be iterated upon using a loop or by calling the `next()` function on it. Each time the generator is iterated or `next()` is called, the generator function resumes execution from where it left off and produces the next value using the `yield` statement.\n",
    "\n",
    "To retrieve the values generated by the generator, you can use a loop or the `next()` function:\n",
    "\n",
    "```python\n",
    "for num in my_generator:\n",
    "    print(num)\n",
    "\n",
    "# Output:\n",
    "# 1\n",
    "# 2\n",
    "# 3\n",
    "```\n",
    "\n",
    "In this case, the generator function returns the generator object, and the actual values are generated when the generator is iterated or `next()` is called on it.\n",
    "\n",
    "Using generator functions and generator objects allows for efficient generation of values on-the-fly, especially for large or infinite sequences, as they produce values one at a time without needing to generate the entire sequence upfront."
   ]
  },
  {
   "cell_type": "markdown",
   "metadata": {},
   "source": [
    "### Q11. What is the one improvement that must be made to a function in order for it to become a generator function in the Python language?\n"
   ]
  },
  {
   "cell_type": "markdown",
   "metadata": {},
   "source": [
    "The one improvement that must be made to a function in order for it to become a generator function in Python is the use of the `yield` keyword instead of the `return` keyword to produce values.\n",
    "\n",
    "In a regular function, the `return` statement is used to specify the value to be returned and to terminate the function's execution. However, in a generator function, the `yield` statement is used to yield a value and temporarily suspend the function's execution, allowing it to be resumed later.\n",
    "\n",
    "Here's an example to illustrate the difference between a regular function and a generator function:\n",
    "\n",
    "Regular Function:\n",
    "```python\n",
    "def generate_numbers():\n",
    "    return [1, 2, 3, 4, 5]\n",
    "\n",
    "result = generate_numbers()\n",
    "print(result)\n",
    "```\n",
    "\n",
    "Output:\n",
    "```\n",
    "[1, 2, 3, 4, 5]\n",
    "```\n",
    "\n",
    "In the above example, `generate_numbers()` is a regular function that returns a list of numbers. When called, it executes the function body, creates the list, and returns it as a whole.\n",
    "\n",
    "Generator Function:\n",
    "```python\n",
    "def generate_numbers():\n",
    "    yield 1\n",
    "    yield 2\n",
    "    yield 3\n",
    "    yield 4\n",
    "    yield 5\n",
    "\n",
    "result = generate_numbers()\n",
    "print(result)\n",
    "```\n",
    "\n",
    "Output:\n",
    "```\n",
    "<generator object generate_numbers at 0x000001234567890>\n",
    "```\n",
    "\n",
    "In the generator function example, `generate_numbers()` uses the `yield` keyword to produce values one at a time. When called, it does not immediately execute the function body, but instead returns a generator object. The actual values are generated when iterating over the generator object or calling `next()` on it.\n",
    "\n",
    "To summarize, the one improvement required to transform a regular function into a generator function is replacing the `return` statements with `yield` statements to produce values incrementally and allow the function to be suspended and resumed."
   ]
  },
  {
   "cell_type": "markdown",
   "metadata": {},
   "source": [
    "### Q12. Identify at least one benefit of generators.\n"
   ]
  },
  {
   "cell_type": "markdown",
   "metadata": {},
   "source": [
    "One of the benefits of generators in Python is their ability to generate values on-the-fly, allowing for efficient memory usage and improved performance in certain scenarios. Here's an explanation of this benefit:\n",
    "\n",
    "1. Memory Efficiency:\n",
    "   - Generators produce values one at a time, on-demand, as they are requested.\n",
    "   - Unlike data structures that store all the values in memory at once, generators generate values dynamically, which saves memory.\n",
    "   - This is particularly advantageous when dealing with large or infinite sequences, where storing all values in memory would be impractical or impossible.\n",
    "   - Generators only need to store the current state and any necessary context, reducing memory consumption significantly.\n",
    "\n",
    "2. Laziness and Efficiency:\n",
    "   - Generators are \"lazy\" in nature, meaning they only compute and yield values when requested.\n",
    "   - This lazy evaluation allows for more efficient resource utilization, especially when dealing with computations that are expensive or time-consuming.\n",
    "   - Values are generated on-the-fly, avoiding unnecessary computations and optimizing performance.\n",
    "   - Generators enable processing large datasets or sequences in a more efficient and scalable manner, as they generate values on-demand rather than pre-computing everything upfront.\n",
    "\n",
    "3. Iterative Processing:\n",
    "   - Generators seamlessly integrate with Python's iterator protocol, making them compatible with various iteration constructs such as `for` loops, comprehensions, and functions like `sum()` or `max()`.\n",
    "   - They allow for clean and concise code, as values can be processed iteratively without the need to store the entire sequence in memory.\n",
    "   - Generators enable you to work with potentially infinite sequences, streaming data, or large datasets that cannot fit entirely in memory.\n",
    "\n",
    "In summary, generators provide memory-efficient and lazy evaluation capabilities, allowing for efficient handling of large or infinite sequences. They provide a more efficient and scalable approach to generate values on-the-fly, process data iteratively, and optimize memory consumption."
   ]
  },
  {
   "cell_type": "code",
   "execution_count": null,
   "metadata": {},
   "outputs": [],
   "source": []
  }
 ],
 "metadata": {
  "kernelspec": {
   "display_name": "base",
   "language": "python",
   "name": "python3"
  },
  "language_info": {
   "codemirror_mode": {
    "name": "ipython",
    "version": 3
   },
   "file_extension": ".py",
   "mimetype": "text/x-python",
   "name": "python",
   "nbconvert_exporter": "python",
   "pygments_lexer": "ipython3",
   "version": "3.8.5"
  },
  "orig_nbformat": 4
 },
 "nbformat": 4,
 "nbformat_minor": 2
}
